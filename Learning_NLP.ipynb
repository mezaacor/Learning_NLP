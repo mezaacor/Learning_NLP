{
 "cells": [
  {
   "cell_type": "markdown",
   "metadata": {},
   "source": [
    "# Learning Natural Language Processing"
   ]
  },
  {
   "cell_type": "code",
   "execution_count": 1,
   "metadata": {},
   "outputs": [],
   "source": [
    "#Libraries\n",
    "import nltk"
   ]
  },
  {
   "cell_type": "code",
   "execution_count": 4,
   "metadata": {},
   "outputs": [],
   "source": [
    "#nltk.download() It is necessary to download punkt"
   ]
  },
  {
   "cell_type": "code",
   "execution_count": 7,
   "metadata": {},
   "outputs": [],
   "source": [
    "path1 = '/home/ronny/Documentos/PNL Python/codes/Documents/'\n",
    "file = 'P_IFT_290216_73_Acc.txt'\n",
    "\n",
    "with open(path1+file, 'r') as data:\n",
    "    text_file = data.read()"
   ]
  },
  {
   "cell_type": "code",
   "execution_count": 8,
   "metadata": {},
   "outputs": [],
   "source": [
    "#Tokens\n",
    "tokens=nltk.word_tokenize(text_file,\"spanish\")"
   ]
  },
  {
   "cell_type": "code",
   "execution_count": 10,
   "metadata": {},
   "outputs": [
    {
     "name": "stdout",
     "output_type": "stream",
     "text": [
      "825\n"
     ]
    }
   ],
   "source": [
    "#Counting words\n",
    "total_words = len(tokens)\n",
    "print(total_words)"
   ]
  },
  {
   "cell_type": "code",
   "execution_count": 13,
   "metadata": {},
   "outputs": [
    {
     "name": "stdout",
     "output_type": "stream",
     "text": [
      "306\n"
     ]
    }
   ],
   "source": [
    "#Transforming the list in a set\n",
    "tokens_set = set(tokens)\n",
    "\n",
    "diff_words = len(tokens_set)\n",
    "print(diff_words)"
   ]
  },
  {
   "cell_type": "code",
   "execution_count": 16,
   "metadata": {},
   "outputs": [
    {
     "name": "stdout",
     "output_type": "stream",
     "text": [
      "The text_riches is: 0.3709090909090909\n"
     ]
    }
   ],
   "source": [
    "#Stimating text riches \n",
    "text_riches = (diff_words/len(tokens))\n",
    "print('The text_riches is:', text_riches)"
   ]
  },
  {
   "cell_type": "code",
   "execution_count": 17,
   "metadata": {},
   "outputs": [],
   "source": [
    "#New varibles\n",
    "text_nltk=nltk.Text(tokens)"
   ]
  },
  {
   "cell_type": "code",
   "execution_count": 19,
   "metadata": {},
   "outputs": [
    {
     "name": "stdout",
     "output_type": "stream",
     "text": [
      "Displaying 4 of 4 matches:\n",
      "n términos del segundo párrafo del artículo 8 del Reglamento de la Ley Federal\n",
      "los Denunciantes lo previsto en el artículo 83 , fracción VI , párrafo tercero\n",
      "ales o autorizados en términos del artículo 8 , segundo párrafo , del Reglamen\n",
      "I y III ; y vigésimo primero , del artículo 28 de la Constitución Política de \n"
     ]
    }
   ],
   "source": [
    "#Concordance (how many times a word appears)\n",
    "#In this case the word is artícle\n",
    "\n",
    "text_nltk.concordance(\"artículo\")\n"
   ]
  },
  {
   "cell_type": "code",
   "execution_count": null,
   "metadata": {},
   "outputs": [],
   "source": []
  }
 ],
 "metadata": {
  "kernelspec": {
   "display_name": "Python 3",
   "language": "python",
   "name": "python3"
  },
  "language_info": {
   "codemirror_mode": {
    "name": "ipython",
    "version": 3
   },
   "file_extension": ".py",
   "mimetype": "text/x-python",
   "name": "python",
   "nbconvert_exporter": "python",
   "pygments_lexer": "ipython3",
   "version": "3.6.7"
  }
 },
 "nbformat": 4,
 "nbformat_minor": 2
}
